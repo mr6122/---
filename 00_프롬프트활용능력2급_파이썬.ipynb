{
  "nbformat": 4,
  "nbformat_minor": 0,
  "metadata": {
    "colab": {
      "provenance": [],
      "toc_visible": true,
      "include_colab_link": true
    },
    "kernelspec": {
      "name": "python3",
      "display_name": "Python 3"
    },
    "language_info": {
      "name": "python"
    }
  },
  "cells": [
    {
      "cell_type": "markdown",
      "metadata": {
        "id": "view-in-github",
        "colab_type": "text"
      },
      "source": [
        "<a href=\"https://colab.research.google.com/github/mr6122/---/blob/main/00_%ED%94%84%EB%A1%AC%ED%94%84%ED%8A%B8%ED%99%9C%EC%9A%A9%EB%8A%A5%EB%A0%A52%EA%B8%89_%ED%8C%8C%EC%9D%B4%EC%8D%AC.ipynb\" target=\"_parent\"><img src=\"https://colab.research.google.com/assets/colab-badge.svg\" alt=\"Open In Colab\"/></a>"
      ]
    },
    {
      "cell_type": "markdown",
      "source": [
        "# 01. 파이썬 실행"
      ],
      "metadata": {
        "id": "FDTmq8DKtand"
      }
    },
    {
      "cell_type": "code",
      "execution_count": null,
      "metadata": {
        "id": "DN5kkhtLtZ1z"
      },
      "outputs": [],
      "source": [
        "print(\"Hello World!\") # print 함수를 통해 \"Hello World!\" 문자열을 출력한다."
      ]
    },
    {
      "cell_type": "markdown",
      "source": [
        "# 02. 파이썬 데이터 유형"
      ],
      "metadata": {
        "id": "2ukUR0KVtsR2"
      }
    },
    {
      "cell_type": "markdown",
      "source": [
        "## 02-01. 숫자형 자료 출력"
      ],
      "metadata": {
        "id": "sanwLxhutzk2"
      }
    },
    {
      "cell_type": "code",
      "source": [
        "print( 123 ) # 정수형 숫자 자료형인 123을 출력한다.\n",
        "print( -123.45) # 실수형 숫자 자료형인 -123.45를 출력한다."
      ],
      "metadata": {
        "id": "SnYqKwaltvOV"
      },
      "execution_count": null,
      "outputs": []
    },
    {
      "cell_type": "markdown",
      "source": [
        "## 02-02. 문자열 자료 출력"
      ],
      "metadata": {
        "id": "-kZgOCyjt8QC"
      }
    },
    {
      "cell_type": "code",
      "source": [
        "print(\"Hello?\") # 쌍따옴표로 출력하는 문자열이다.\n",
        "print('Hello?') # 홑따옴표로 출력하는 문자열이다."
      ],
      "metadata": {
        "id": "00srp-jXuAhY"
      },
      "execution_count": null,
      "outputs": []
    },
    {
      "cell_type": "markdown",
      "source": [
        "## 02-03. 리스트 자료 출력"
      ],
      "metadata": {
        "id": "vhRXKlNauDgf"
      }
    },
    {
      "cell_type": "code",
      "source": [
        "print([1, \"2\", True]) # 숫자, 문자, 불 자료형을 출력하는 리스트이다."
      ],
      "metadata": {
        "id": "MNyY8UTyuGzW"
      },
      "execution_count": null,
      "outputs": []
    },
    {
      "cell_type": "markdown",
      "source": [
        "## 02-04. 튜플 자료 출력"
      ],
      "metadata": {
        "id": "KI0Kxj77uI1E"
      }
    },
    {
      "cell_type": "code",
      "source": [
        "print( (1, \"2\", True) ) # 숫자, 문자, 불 자료형을 출력하는 튜플이다."
      ],
      "metadata": {
        "id": "RrkJ_mK3uLm3"
      },
      "execution_count": null,
      "outputs": []
    },
    {
      "cell_type": "markdown",
      "source": [
        "## 02-05. 딕셔너리 자료 출력"
      ],
      "metadata": {
        "id": "PdR1vDgUuM2T"
      }
    },
    {
      "cell_type": "code",
      "source": [
        "# dict 변수는 딕셔너리 자료형을 선언하는 변수이다.\n",
        "dict = { \"key1\" : \"1\", \"key2\" : 2 }\n",
        "\n",
        "print(dict) # dict 변수를 출력한다."
      ],
      "metadata": {
        "id": "73Pbi41luQJy"
      },
      "execution_count": null,
      "outputs": []
    },
    {
      "cell_type": "markdown",
      "source": [
        "## 02-06. 집합 자료 출력 - 중복 허용하지 않음"
      ],
      "metadata": {
        "id": "2PWBoKmluR6u"
      }
    },
    {
      "cell_type": "code",
      "source": [
        "# 집합 자료형은 중복을 허용하지 않는다.\n",
        "set1 = set([1, 2, 3]) # 입력한 집합을 set1 변수로 선언한다.\n",
        "set2 = set(\"Hello?\") # \"Hello?\" 입력한 집합을 set2 변수로 선언한다.\n",
        "\n",
        "print(set1) # set1 변수를 출력한다.\n",
        "print(set2) # set2 변수를 출력한다."
      ],
      "metadata": {
        "id": "Zdk-rWO4uVdm"
      },
      "execution_count": null,
      "outputs": []
    },
    {
      "cell_type": "markdown",
      "source": [
        "## 02-07. 불 자료 출력\n"
      ],
      "metadata": {
        "id": "e_rlHzywuaC-"
      }
    },
    {
      "cell_type": "code",
      "source": [
        "print(True) # 참을 출력한다. True에서 앞글자가 대문자이다.\n",
        "print(False) # 거짓을 출력한다. False에서 앞글자가 대문자이다."
      ],
      "metadata": {
        "id": "8I4OyDhFugEC"
      },
      "execution_count": null,
      "outputs": []
    },
    {
      "cell_type": "markdown",
      "source": [
        "# 03. 제어문"
      ],
      "metadata": {
        "id": "nckSn8xwuohV"
      }
    },
    {
      "cell_type": "markdown",
      "source": [
        "## 03-01. for 구문 사용하기"
      ],
      "metadata": {
        "id": "AjgjIxsiu1kW"
      }
    },
    {
      "cell_type": "code",
      "source": [
        "result = ['one', 'two', 'three'] # 문자열을 선언한 리스트\n",
        "\n",
        "for num in result: # 변수 a를 리스트를 반복하는 요소로 선언한다.\n",
        "  print(num)"
      ],
      "metadata": {
        "id": "qf_HcUHTu4z6"
      },
      "execution_count": null,
      "outputs": []
    },
    {
      "cell_type": "markdown",
      "source": [
        "## 03-02. if 구문 사용하기"
      ],
      "metadata": {
        "id": "ghkh8LdHu1_g"
      }
    },
    {
      "cell_type": "code",
      "source": [
        "cond1 = True # cond1 변수를 참으로 선언\n",
        "\n",
        "if cond1: # cond1 변수가 참일 경우\n",
        "    print(\"cond1 변수는 참이다.\")\n",
        "else: # cond1 변수가 거짓일 경우\n",
        "    print(\"cond1 변수는 거짓이다.\")\n",
        "\n",
        "cond2 = False # cond2 변수를 거짓으로 선언\n",
        "\n",
        "if cond2: # cond2 변수가 참일 경우\n",
        "    print(\"cond2 변수는 참이다.\")\n",
        "else: # cond2 변수가 거짓일 경우\n",
        "    print(\"cond2 변수는 거짓이다.\")"
      ],
      "metadata": {
        "id": "blzzExP9u95z"
      },
      "execution_count": null,
      "outputs": []
    },
    {
      "cell_type": "markdown",
      "source": [
        "## 03-03. while 구문 사용하기"
      ],
      "metadata": {
        "id": "K9m_Fyeru2R2"
      }
    },
    {
      "cell_type": "code",
      "source": [
        "cond1 = 0 # cond1 변수를 선언하고 0을 대입한다.\n",
        "\n",
        "while cond1 < 3: # cond1 변수가 3보다 작을때 까지 반복한다\n",
        "    print(cond1)\n",
        "    cond1 += 1 # cond1 += 1은 cond1 = cond1 + 1과 같은 표현이다."
      ],
      "metadata": {
        "id": "5sIOGPpcvC-R"
      },
      "execution_count": null,
      "outputs": []
    },
    {
      "cell_type": "markdown",
      "source": [
        "# 04. 함수"
      ],
      "metadata": {
        "id": "Md0w8woFurP8"
      }
    },
    {
      "cell_type": "code",
      "source": [
        "def print_for(): # print_for 함수를 \"def\" 예약어를 사용해 선언한다.\n",
        "  # 호출된 함수는 아래 코드를 수행한다.\n",
        "  result = ['one', 'two', 'three'] # 문자열을 선언한 리스트\n",
        "\n",
        "  for a in result: # 변수 a를 리스트를 반복하는 요소로 선언한다.\n",
        "      print(a)\n",
        "\n",
        "print_for() # print_for 함수를 호출한다."
      ],
      "metadata": {
        "id": "YuFJSO86vH8N"
      },
      "execution_count": null,
      "outputs": []
    },
    {
      "cell_type": "markdown",
      "source": [
        "# 05. 라이브러리 사용하기"
      ],
      "metadata": {
        "id": "5hPGAQreuttw"
      }
    },
    {
      "cell_type": "code",
      "source": [
        "import time # 사용할 패키지(모듈)는 가장 먼저 실행되어야 하므로 파일 내용의 가장 위에 작성한다.\n",
        "\n",
        "print(\"time 모듈을 사용한다.\")\n",
        "\n",
        "now = time.time() # 현재 시간을 유닉스 타임스탬프로 가져온다.\n",
        "readable_time = time.ctime(now) # 유닉스 타임스탬프를 읽을 수 있는 형태로 변환합니다.\n",
        "\n",
        "print(\"현재 시간:\", readable_time)"
      ],
      "metadata": {
        "id": "6L4x5QCnvOGW"
      },
      "execution_count": null,
      "outputs": []
    },
    {
      "cell_type": "markdown",
      "source": [
        "# 06. ChatGPT API 사용하기"
      ],
      "metadata": {
        "id": "Z4R3LlPGuwDY"
      }
    },
    {
      "cell_type": "code",
      "source": [
        "# ChatGPT API 사용 전 반드시 실행해주세요.\n",
        "!pip install openai==0.28"
      ],
      "metadata": {
        "id": "0MWn5MrnYf0p"
      },
      "execution_count": null,
      "outputs": []
    },
    {
      "cell_type": "code",
      "source": [
        "import openai  # 사용할 패키지(모듈)는\n",
        "               # 가장 먼저 실행되어야 하므로\n",
        "               # 파일 내용의 가장 위에 작성한다.\n",
        "\n",
        "print(\"ChatGPT API를 통해 프롬프트 엔지니어링 수행\")\n",
        "\n",
        "txt_prompt = \"제주도 2박 3일 여행계획을 세워줘\"\n",
        "print(\"질의할 프롬프트 : {}\".format(txt_prompt))\n",
        "\n",
        "openai.api_key = \"\"\n",
        "completion = openai.ChatCompletion.create(\n",
        "    model=\"gpt-4\", # GPT-4 모델을 사용한다.\n",
        "    messages=[\n",
        "        {\n",
        "            \"role\": \"user\", # 역할은 사용자로 설정한다\n",
        "            \"content\": txt_prompt, # 질의할 내용(프롬프트)을 설정한다.\n",
        "        }\n",
        "    ],\n",
        ")\n",
        "\n",
        "# 챗GPT가 응답한 메시지를 출력한다.\n",
        "print(\"챗GPT가 응답한 내용 : {}\".format(completion.choices[0].message.content))"
      ],
      "metadata": {
        "id": "7RNzYC8ZvRp_"
      },
      "execution_count": null,
      "outputs": []
    }
  ]
}